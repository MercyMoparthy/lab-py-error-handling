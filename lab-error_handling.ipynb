{
 "cells": [
  {
   "cell_type": "markdown",
   "metadata": {},
   "source": [
    "# LAB | Error Handling in Python\n",
    "\n",
    "## Overview\n",
    "This exercise notebook will help you practice error handling in Python using exceptions. You will write programs that handle various types of exceptions to ensure your code runs smoothly and handles errors gracefully."
   ]
  },
  {
   "cell_type": "markdown",
   "metadata": {},
   "source": [
    "### Exercise 1: Handle ZeroDivisionError\n",
    "Write a Python program to handle a `ZeroDivisionError` exception when dividing a number by zero.\n"
   ]
  },
  {
   "cell_type": "code",
   "execution_count": 2,
   "metadata": {},
   "outputs": [
    {
     "name": "stdout",
     "output_type": "stream",
     "text": [
      "Error: Division by zero is not allowed.\n"
     ]
    }
   ],
   "source": [
    "try:\n",
    "    numerator = float(input(\"Enter the numerator: \"))\n",
    "    denominator = float(input(\"Enter the denominator: \"))\n",
    "    result = numerator / denominator\n",
    "    print(f\"The result is: {result}\")\n",
    "except ZeroDivisionError:\n",
    "    print(\"Error: Division by zero is not allowed.\")"
   ]
  },
  {
   "cell_type": "markdown",
   "metadata": {},
   "source": [
    "\n",
    "### Exercise 2: Raise ValueError for Invalid Input\n",
    "Write a Python program that prompts the user to input an integer and raises a `ValueError` exception if the input is not a valid integer.\n",
    "\n"
   ]
  },
  {
   "cell_type": "code",
   "execution_count": 3,
   "metadata": {},
   "outputs": [
    {
     "name": "stdout",
     "output_type": "stream",
     "text": [
      "Hello! I'm within the else\n"
     ]
    },
    {
     "ename": "ValueError",
     "evalue": "Hello! Input must be a number",
     "output_type": "error",
     "traceback": [
      "\u001b[31m---------------------------------------------------------------------------\u001b[39m",
      "\u001b[31mValueError\u001b[39m                                Traceback (most recent call last)",
      "\u001b[36mCell\u001b[39m\u001b[36m \u001b[39m\u001b[32mIn[3]\u001b[39m\u001b[32m, line 14\u001b[39m\n\u001b[32m     11\u001b[39m         \u001b[38;5;28mprint\u001b[39m(\u001b[33m\"\u001b[39m\u001b[33mHello! I\u001b[39m\u001b[33m'\u001b[39m\u001b[33mm within the else\u001b[39m\u001b[33m\"\u001b[39m)\n\u001b[32m     12\u001b[39m         \u001b[38;5;28;01mraise\u001b[39;00m \u001b[38;5;167;01mValueError\u001b[39;00m (\u001b[33m\"\u001b[39m\u001b[33mHello! Input must be a number\u001b[39m\u001b[33m\"\u001b[39m)\n\u001b[32m---> \u001b[39m\u001b[32m14\u001b[39m \u001b[43mmultiply_by_2\u001b[49m\u001b[43m(\u001b[49m\u001b[43m[\u001b[49m\u001b[32;43m10\u001b[39;49m\u001b[43m]\u001b[49m\u001b[43m)\u001b[49m\n",
      "\u001b[36mCell\u001b[39m\u001b[36m \u001b[39m\u001b[32mIn[3]\u001b[39m\u001b[32m, line 12\u001b[39m, in \u001b[36mmultiply_by_2\u001b[39m\u001b[34m(x)\u001b[39m\n\u001b[32m     10\u001b[39m \u001b[38;5;28;01melse\u001b[39;00m:\n\u001b[32m     11\u001b[39m     \u001b[38;5;28mprint\u001b[39m(\u001b[33m\"\u001b[39m\u001b[33mHello! I\u001b[39m\u001b[33m'\u001b[39m\u001b[33mm within the else\u001b[39m\u001b[33m\"\u001b[39m)\n\u001b[32m---> \u001b[39m\u001b[32m12\u001b[39m     \u001b[38;5;28;01mraise\u001b[39;00m \u001b[38;5;167;01mValueError\u001b[39;00m (\u001b[33m\"\u001b[39m\u001b[33mHello! Input must be a number\u001b[39m\u001b[33m\"\u001b[39m)\n",
      "\u001b[31mValueError\u001b[39m: Hello! Input must be a number"
     ]
    }
   ],
   "source": [
    "# Your code here\n",
    "def multiply_by_2 (x):\n",
    "    if isinstance(x, int): # instead of type(x) == int\n",
    "        return x*2\n",
    "    elif isinstance(x, str): #type(x) == str\n",
    "        try:\n",
    "            return int(x) * 2\n",
    "        except:\n",
    "            raise ValueError(\"Input must be a number\")\n",
    "    else:\n",
    "        print(\"Hello! I'm within the else\")\n",
    "        raise ValueError (\"Hello! Input must be a number\")\n",
    "\n",
    "multiply_by_2([10])"
   ]
  },
  {
   "cell_type": "markdown",
   "metadata": {},
   "source": [
    "\n",
    "\n",
    "### Exercise 3: Handle FileNotFoundError\n",
    "Write a Python program that opens a file and handles a `FileNotFoundError` exception if the file does not exist.\n",
    "\n"
   ]
  },
  {
   "cell_type": "code",
   "execution_count": 4,
   "metadata": {},
   "outputs": [
    {
     "ename": "FileNotFoundError",
     "evalue": "File not found! Please check the file name or path.",
     "output_type": "error",
     "traceback": [
      "\u001b[31m---------------------------------------------------------------------------\u001b[39m",
      "\u001b[31mFileNotFoundError\u001b[39m                         Traceback (most recent call last)",
      "\u001b[36mCell\u001b[39m\u001b[36m \u001b[39m\u001b[32mIn[4]\u001b[39m\u001b[32m, line 3\u001b[39m\n\u001b[32m      2\u001b[39m \u001b[38;5;28;01mtry\u001b[39;00m:\n\u001b[32m----> \u001b[39m\u001b[32m3\u001b[39m     \u001b[38;5;28;01mwith\u001b[39;00m \u001b[38;5;28;43mopen\u001b[39;49m\u001b[43m(\u001b[49m\u001b[33;43m\"\u001b[39;49m\u001b[33;43mnon_existent_file.txt\u001b[39;49m\u001b[33;43m\"\u001b[39;49m\u001b[43m,\u001b[49m\u001b[43m \u001b[49m\u001b[33;43m\"\u001b[39;49m\u001b[33;43mr\u001b[39;49m\u001b[33;43m\"\u001b[39;49m\u001b[43m)\u001b[49m \u001b[38;5;28;01mas\u001b[39;00m file:\n\u001b[32m      4\u001b[39m         content = file.read()\n",
      "\u001b[36mFile \u001b[39m\u001b[32mc:\\Users\\Mercy\\AppData\\Local\\Programs\\Python\\Python313\\Lib\\site-packages\\IPython\\core\\interactiveshell.py:326\u001b[39m, in \u001b[36m_modified_open\u001b[39m\u001b[34m(file, *args, **kwargs)\u001b[39m\n\u001b[32m    320\u001b[39m     \u001b[38;5;28;01mraise\u001b[39;00m \u001b[38;5;167;01mValueError\u001b[39;00m(\n\u001b[32m    321\u001b[39m         \u001b[33mf\u001b[39m\u001b[33m\"\u001b[39m\u001b[33mIPython won\u001b[39m\u001b[33m'\u001b[39m\u001b[33mt let you open fd=\u001b[39m\u001b[38;5;132;01m{\u001b[39;00mfile\u001b[38;5;132;01m}\u001b[39;00m\u001b[33m by default \u001b[39m\u001b[33m\"\u001b[39m\n\u001b[32m    322\u001b[39m         \u001b[33m\"\u001b[39m\u001b[33mas it is likely to crash IPython. If you know what you are doing, \u001b[39m\u001b[33m\"\u001b[39m\n\u001b[32m    323\u001b[39m         \u001b[33m\"\u001b[39m\u001b[33myou can use builtins\u001b[39m\u001b[33m'\u001b[39m\u001b[33m open.\u001b[39m\u001b[33m\"\u001b[39m\n\u001b[32m    324\u001b[39m     )\n\u001b[32m--> \u001b[39m\u001b[32m326\u001b[39m \u001b[38;5;28;01mreturn\u001b[39;00m \u001b[43mio_open\u001b[49m\u001b[43m(\u001b[49m\u001b[43mfile\u001b[49m\u001b[43m,\u001b[49m\u001b[43m \u001b[49m\u001b[43m*\u001b[49m\u001b[43margs\u001b[49m\u001b[43m,\u001b[49m\u001b[43m \u001b[49m\u001b[43m*\u001b[49m\u001b[43m*\u001b[49m\u001b[43mkwargs\u001b[49m\u001b[43m)\u001b[49m\n",
      "\u001b[31mFileNotFoundError\u001b[39m: [Errno 2] No such file or directory: 'non_existent_file.txt'",
      "\nDuring handling of the above exception, another exception occurred:\n",
      "\u001b[31mFileNotFoundError\u001b[39m                         Traceback (most recent call last)",
      "\u001b[36mCell\u001b[39m\u001b[36m \u001b[39m\u001b[32mIn[4]\u001b[39m\u001b[32m, line 6\u001b[39m\n\u001b[32m      4\u001b[39m         content = file.read()\n\u001b[32m      5\u001b[39m \u001b[38;5;28;01mexcept\u001b[39;00m:\n\u001b[32m----> \u001b[39m\u001b[32m6\u001b[39m     \u001b[38;5;28;01mraise\u001b[39;00m \u001b[38;5;167;01mFileNotFoundError\u001b[39;00m(\u001b[33m\"\u001b[39m\u001b[33mFile not found! Please check the file name or path.\u001b[39m\u001b[33m\"\u001b[39m)\n",
      "\u001b[31mFileNotFoundError\u001b[39m: File not found! Please check the file name or path."
     ]
    }
   ],
   "source": [
    "# Your code here\n",
    "try:\n",
    "    with open(\"non_existent_file.txt\", \"r\") as file:\n",
    "        content = file.read()\n",
    "except:\n",
    "    raise FileNotFoundError(\"File not found! Please check the file name or path.\")"
   ]
  },
  {
   "cell_type": "markdown",
   "metadata": {},
   "source": [
    "\n",
    "\n",
    "### Exercise 4: Raise TypeError for Non-Numerical Input\n",
    "Write a Python program that prompts the user to input two numbers and raises a `TypeError` exception if the inputs are not numerical.\n",
    "\n"
   ]
  },
  {
   "cell_type": "code",
   "execution_count": 5,
   "metadata": {},
   "outputs": [
    {
     "ename": "TypeError",
     "evalue": "Input must be a numeric values",
     "output_type": "error",
     "traceback": [
      "\u001b[31m---------------------------------------------------------------------------\u001b[39m",
      "\u001b[31mTypeError\u001b[39m                                 Traceback (most recent call last)",
      "\u001b[36mCell\u001b[39m\u001b[36m \u001b[39m\u001b[32mIn[5]\u001b[39m\u001b[32m, line 9\u001b[39m, in \u001b[36mtwo_numbers\u001b[39m\u001b[34m(a, b)\u001b[39m\n\u001b[32m      8\u001b[39m \u001b[38;5;28;01mtry\u001b[39;00m:\n\u001b[32m----> \u001b[39m\u001b[32m9\u001b[39m     \u001b[38;5;28;01mreturn\u001b[39;00m \u001b[38;5;28mint\u001b[39m(a) * \u001b[38;5;28;43mint\u001b[39;49m\u001b[43m(\u001b[49m\u001b[43mb\u001b[49m\u001b[43m)\u001b[49m\n\u001b[32m     10\u001b[39m \u001b[38;5;66;03m#except TypeError:\u001b[39;00m\n",
      "\u001b[31mTypeError\u001b[39m: int() argument must be a string, a bytes-like object or a real number, not 'list'",
      "\nDuring handling of the above exception, another exception occurred:\n",
      "\u001b[31mTypeError\u001b[39m                                 Traceback (most recent call last)",
      "\u001b[36mCell\u001b[39m\u001b[36m \u001b[39m\u001b[32mIn[5]\u001b[39m\u001b[32m, line 16\u001b[39m\n\u001b[32m     12\u001b[39m             \u001b[38;5;28;01mraise\u001b[39;00m \u001b[38;5;167;01mTypeError\u001b[39;00m(\u001b[33m\"\u001b[39m\u001b[33mInput must be a numeric values\u001b[39m\u001b[33m\"\u001b[39m)\n\u001b[32m     13\u001b[39m             \u001b[38;5;66;03m#print(\"Input must be a numeric values\")\u001b[39;00m\n\u001b[32m---> \u001b[39m\u001b[32m16\u001b[39m \u001b[43mtwo_numbers\u001b[49m\u001b[43m(\u001b[49m\u001b[32;43m1\u001b[39;49m\u001b[43m,\u001b[49m\u001b[43m[\u001b[49m\u001b[32;43m2\u001b[39;49m\u001b[43m]\u001b[49m\u001b[43m)\u001b[49m\n",
      "\u001b[36mCell\u001b[39m\u001b[36m \u001b[39m\u001b[32mIn[5]\u001b[39m\u001b[32m, line 12\u001b[39m, in \u001b[36mtwo_numbers\u001b[39m\u001b[34m(a, b)\u001b[39m\n\u001b[32m     10\u001b[39m \u001b[38;5;66;03m#except TypeError:\u001b[39;00m\n\u001b[32m     11\u001b[39m \u001b[38;5;28;01mexcept\u001b[39;00m:\n\u001b[32m---> \u001b[39m\u001b[32m12\u001b[39m     \u001b[38;5;28;01mraise\u001b[39;00m \u001b[38;5;167;01mTypeError\u001b[39;00m(\u001b[33m\"\u001b[39m\u001b[33mInput must be a numeric values\u001b[39m\u001b[33m\"\u001b[39m)\n",
      "\u001b[31mTypeError\u001b[39m: Input must be a numeric values"
     ]
    }
   ],
   "source": [
    "# Your code here\n",
    "\n",
    "def two_numbers (a,b):\n",
    "    if isinstance(a, (int, float)) and isinstance(b,(int, float)): # instead of type(x) == int\n",
    "        result = (\"both are numerical values\")\n",
    "        return result\n",
    "    else:\n",
    "        try:\n",
    "            return int(a) * int(b)\n",
    "        #except TypeError:\n",
    "        except:\n",
    "            raise TypeError(\"Input must be a numeric values\")\n",
    "            #print(\"Input must be a numeric values\")\n",
    "    \n",
    "\n",
    "two_numbers(1,[2])\n"
   ]
  },
  {
   "cell_type": "markdown",
   "metadata": {},
   "source": [
    "\n",
    "\n",
    "### Exercise 5: Handle PermissionError\n",
    "Write a Python program that opens a file and handles a `PermissionError` exception if there is a permission issue.\n",
    "\n",
    "\n"
   ]
  },
  {
   "cell_type": "code",
   "execution_count": 6,
   "metadata": {},
   "outputs": [
    {
     "name": "stdout",
     "output_type": "stream",
     "text": [
      "PermissionError: You do not have permission to perform this operation.\n"
     ]
    }
   ],
   "source": [
    "# Your code here\n",
    "try:\n",
    "    with open(\"C:\\\\Windows\\\\System32\\\\notepad.exe\", \"w\") as file:\n",
    "        file.write(\"This is a test.\")\n",
    "except PermissionError:\n",
    "    print(\"PermissionError: You do not have permission to perform this operation.\")"
   ]
  },
  {
   "cell_type": "markdown",
   "metadata": {},
   "source": [
    "\n",
    "\n",
    "### Exercise 6: Handle IndexError in List Operations\n",
    "Write a Python program that executes an operation on a list and handles an `IndexError` exception if the index is out of range.\n",
    "\n",
    "\n"
   ]
  },
  {
   "cell_type": "code",
   "execution_count": 7,
   "metadata": {},
   "outputs": [
    {
     "name": "stdout",
     "output_type": "stream",
     "text": [
      "IndexError: The index is out of range. Please enter a valid index.\n"
     ]
    }
   ],
   "source": [
    "# your code here\n",
    "my_list = [10, 20, 30, 40, 50]\n",
    "\n",
    "# Attempt to access an element at a specific index\n",
    "try:\n",
    "    index = int(input(\"Enter the index of the element you want to access: \"))\n",
    "    print(f\"The element at index {index} is {my_list[index]}\")\n",
    "except IndexError:\n",
    "    print(\"IndexError: The index is out of range. Please enter a valid index.\")"
   ]
  },
  {
   "cell_type": "markdown",
   "metadata": {},
   "source": [
    "\n",
    "\n",
    "### Exercise 7: Handle KeyboardInterrupt Exception\n",
    "Write a Python program that prompts the user to input a number and handles a `KeyboardInterrupt` exception if the user cancels the input.\n",
    "\n"
   ]
  },
  {
   "cell_type": "code",
   "execution_count": 1,
   "metadata": {},
   "outputs": [
    {
     "ename": "ValueError",
     "evalue": "invalid literal for int() with base 10: ''",
     "output_type": "error",
     "traceback": [
      "\u001b[31m---------------------------------------------------------------------------\u001b[39m",
      "\u001b[31mValueError\u001b[39m                                Traceback (most recent call last)",
      "\u001b[36mCell\u001b[39m\u001b[36m \u001b[39m\u001b[32mIn[1]\u001b[39m\u001b[32m, line 5\u001b[39m\n\u001b[32m      3\u001b[39m     user_input = \u001b[38;5;28minput\u001b[39m(\u001b[33m\"\u001b[39m\u001b[33mPlease enter a number: \u001b[39m\u001b[33m\"\u001b[39m)\n\u001b[32m      4\u001b[39m     user_data = \u001b[38;5;28minput\u001b[39m(\u001b[33m\"\u001b[39m\u001b[33mPlease enter a number:\u001b[39m\u001b[33m\"\u001b[39m)\n\u001b[32m----> \u001b[39m\u001b[32m5\u001b[39m     result = \u001b[38;5;28;43mint\u001b[39;49m\u001b[43m(\u001b[49m\u001b[43muser_input\u001b[49m\u001b[43m)\u001b[49m * \u001b[38;5;28mint\u001b[39m(user_data)*\u001b[32m100\u001b[39m*\u001b[32m25.78\u001b[39m*\u001b[32m42\u001b[39m\n\u001b[32m      6\u001b[39m     \u001b[38;5;28mprint\u001b[39m(\u001b[33m\"\u001b[39m\u001b[33mYou entered:\u001b[39m\u001b[33m\"\u001b[39m, result)\n\u001b[32m      7\u001b[39m \u001b[38;5;28;01mexcept\u001b[39;00m \u001b[38;5;167;01mKeyboardInterrupt\u001b[39;00m:\n",
      "\u001b[31mValueError\u001b[39m: invalid literal for int() with base 10: ''"
     ]
    }
   ],
   "source": [
    "# Your code here\n",
    "try:\n",
    "    user_input = input(\"Please enter a number: \")\n",
    "    user_data = input(\"Please enter a number:\")\n",
    "    result = int(user_input) * int(user_data)*100*25.78*42\n",
    "    print(\"You entered:\", result)\n",
    "except KeyboardInterrupt:\n",
    "    print(\"KeyboardInterrupt: The program was interrupted by the user. Exiting..\")"
   ]
  },
  {
   "cell_type": "code",
   "execution_count": 2,
   "metadata": {},
   "outputs": [
    {
     "name": "stdout",
     "output_type": "stream",
     "text": [
      "The program is running. Press Ctrl+C to interrupt it.\n",
      "KexboardInterrupt: The program was interrupted by the user. Exiting...\n"
     ]
    }
   ],
   "source": [
    "import time\n",
    "\n",
    "print(\"The program is running. Press Ctrl+C to interrupt it.\")\n",
    "\n",
    "try:\n",
    "    # Long-running loop\n",
    "    while True:\n",
    "        time.sleep(15)  # Sleeping for 15 second\n",
    "        print(\"Still running...\")  # Keeps printing every second\n",
    "except KeyboardInterrupt:\n",
    "    print(\"KexboardInterrupt: The program was interrupted by the user. Exiting...\")"
   ]
  },
  {
   "cell_type": "markdown",
   "metadata": {},
   "source": [
    "\n",
    "\n",
    "### Exercise 8: Handle ArithmeticError\n",
    "Write a Python program that executes division and handles an `ArithmeticError` exception if there is an arithmetic error.\n",
    "\n"
   ]
  },
  {
   "cell_type": "code",
   "execution_count": 11,
   "metadata": {},
   "outputs": [
    {
     "name": "stdout",
     "output_type": "stream",
     "text": [
      "ArithmeticError: An arithmetic error occurred: division by zero\n"
     ]
    }
   ],
   "source": [
    "# Your code here\n",
    "try:\n",
    "    # Attempt to perform division\n",
    "    numerator = 10\n",
    "    denominator = 0\n",
    "    division_result = numerator / denominator\n",
    "    print(f\"The result of the division is: {division_result}\")\n",
    "except ArithmeticError as e:\n",
    "    print(f\"ArithmeticError: An arithmetic error occurred: {e}\")\n",
    "\n"
   ]
  },
  {
   "cell_type": "markdown",
   "metadata": {},
   "source": [
    "\n",
    "\n",
    "### Exercise 9: Handle UnicodeDecodeError\n",
    "Write a Python program that opens a file and handles a `UnicodeDecodeError` exception if there is an encoding issue.\n",
    "\n"
   ]
  },
  {
   "cell_type": "code",
   "execution_count": 4,
   "metadata": {},
   "outputs": [
    {
     "name": "stdout",
     "output_type": "stream",
     "text": [
      "UnicodeDecodeError: An encoding issue occurred: 'utf-8' codec can't decode byte 0xe2 in position 10: invalid continuation byte\n"
     ]
    }
   ],
   "source": [
    "# Your code here\n",
    "try:\n",
    "    # Attempt to open and read a file with potential encoding issues\n",
    "    with open(\"C:\\\\Users\\\\Mercy\\\\OneDrive\\\\Documents\\\\August payslip 2023.pdf\", \"r\", encoding=\"utf-8\") as file:\n",
    "        content = file.read()\n",
    "        print(content)\n",
    "except UnicodeDecodeError as e:\n",
    "    print(f\"UnicodeDecodeError: An encoding issue occurred: {e}\")"
   ]
  },
  {
   "cell_type": "markdown",
   "metadata": {},
   "source": [
    "\n",
    "\n",
    "### Exercise 10: Handle AttributeError\n",
    "Write a Python program that executes an operation on an object and handles an `AttributeError` exception if the attribute does not exist.\n",
    "\n"
   ]
  },
  {
   "cell_type": "code",
   "execution_count": 5,
   "metadata": {},
   "outputs": [
    {
     "name": "stdout",
     "output_type": "stream",
     "text": [
      "AttributeError: 'SampleClass' object has no attribute 'external_value'\n"
     ]
    }
   ],
   "source": [
    "# Your code here\n",
    "# Attempt to access a non-existent attribute\n",
    "class SampleClass:\n",
    "    def __init__(self, value):\n",
    "        self.value = value\n",
    "\n",
    "obj = SampleClass(10)\n",
    "\n",
    "try:\n",
    "    # Accessing a non-existent attribute\n",
    "    print(obj.external_value)\n",
    "except AttributeError as e:\n",
    "    print(f\"AttributeError: {e}\")"
   ]
  },
  {
   "cell_type": "markdown",
   "metadata": {},
   "source": [
    "\n",
    "\n",
    "## Bonus Exercises\n",
    "\n",
    "### Bonus Exercise 1: Handle Multiple Exceptions\n",
    "Write a Python program that demonstrates handling multiple exceptions in one block.\n",
    "\n",
    "\n"
   ]
  },
  {
   "cell_type": "code",
   "execution_count": 17,
   "metadata": {},
   "outputs": [
    {
     "name": "stdout",
     "output_type": "stream",
     "text": [
      "TypeError2: Input must be a numeric values\n"
     ]
    }
   ],
   "source": [
    "# Your code here\n",
    "def two_numbers (a,b, op):\n",
    "    try:\n",
    "        if isinstance(a, (int,float)) and isinstance(b,(int, float)):\n",
    "            result = (\"both are numerical values\")\n",
    "            if op == \"add\":\n",
    "                result = a + b\n",
    "                return result\n",
    "            elif op == \"subtract\":\n",
    "                result = a - b\n",
    "                return result\n",
    "            elif op == \"multiply\":\n",
    "                result = a * b\n",
    "                return result\n",
    "            elif op == \"divide\":\n",
    "                result = a / b\n",
    "                return result\n",
    "            else:\n",
    "                raise TypeError(\"Invalid operation. Please choose from add, subtract, multiply, or divide.\")\n",
    "        else:\n",
    "            raise TypeError(\"TypeError1: Input must be a numeric values\")\n",
    "    except ZeroDivisionError:\n",
    "        print(\"ZeroDivisionError: Division by zero is not allowed.\") \n",
    "    except TypeError:\n",
    "        print(\"TypeError2: Input must be a numeric values\")\n",
    "\n",
    "try:\n",
    "    # Attempt to convert a string to an integer\n",
    "    user_input = int(input(\"Please enter a number: \"))\n",
    "    user_data = int(input(\"Please enter a number:\"))\n",
    "    operation = input(\"Please enter an operation (add, subtract, multiply, divide): \")\n",
    "    two_numbers(user_input, user_data, operation)\n",
    "except ValueError:\n",
    "    print(\"ValueError: Invalid input. Please enter a valid number.\")\n",
    "\n"
   ]
  },
  {
   "cell_type": "code",
   "execution_count": 23,
   "metadata": {},
   "outputs": [
    {
     "name": "stdout",
     "output_type": "stream",
     "text": [
      "ZeroDivisionError: Division by zero is not allowed.\n"
     ]
    }
   ],
   "source": [
    "user_input = int(input(\"Please enter a number: \"))\n",
    "user_data = int(input(\"Please enter a number:\"))\n",
    "operation = input(\"Please enter an operation (add, subtract, multiply, divide): \")\n",
    "def two_numbers(a, b, op):\n",
    "    try:\n",
    "        # Check if inputs are numerical\n",
    "        if isinstance(a, (int, float)) and isinstance(b, (int, float)):\n",
    "            if op == \"add\":\n",
    "                return a + b\n",
    "            elif op == \"subtract\":\n",
    "                return a - b\n",
    "            elif op == \"multiply\":\n",
    "                return a * b\n",
    "            elif op == \"divide\":\n",
    "                if b == 0:\n",
    "                    raise ZeroDivisionError(\"Division by zero is not allowed.\")\n",
    "                return a / b\n",
    "            else:\n",
    "                raise ValueError(\"Invalid operation. Please choose from add, subtract, multiply, or divide.\")\n",
    "        else:\n",
    "            raise TypeError(\"Input must be numeric values.\")\n",
    "    except ZeroDivisionError as e:\n",
    "        print(f\"ZeroDivisionError: {e}\")\n",
    "    except TypeError as e:\n",
    "        print(f\"TypeError: {e}\")\n",
    "    except ValueError as e:\n",
    "        print(f\"ValueError: {e}\")\n",
    "\n",
    "# Use the existing variables in the notebook\n",
    "result = two_numbers(user_input, user_data, operation)\n",
    "if result is not None:\n",
    "    print(f\"The result of the operation is: {result}\")"
   ]
  },
  {
   "cell_type": "markdown",
   "metadata": {},
   "source": [
    "\n",
    "\n",
    "### Bonus Exercise 2: Create Custom Exception\n",
    "Create a custom exception class and raise it in your code when certain conditions are met.\n",
    "\n",
    "\n"
   ]
  },
  {
   "cell_type": "code",
   "execution_count": 33,
   "metadata": {},
   "outputs": [
    {
     "name": "stdout",
     "output_type": "stream",
     "text": [
      "CustomDivisionError: Division by zero is not allowed.\n"
     ]
    }
   ],
   "source": [
    "# Define a custom exception class\n",
    "class CustomDivisionError(Exception):\n",
    "    def __init__(self, message):\n",
    "        super().__init__(message)\n",
    "\n",
    "user_input = 70\n",
    "user_data = 0\n",
    "operation = \"divide\"\n",
    "\n",
    "# Check for specific conditions and raise the custom exception\n",
    "try:\n",
    "    if operation == \"divide\" and user_data == 0 :\n",
    "        raise CustomDivisionError(\"CustomDivisionError: Division by zero is not allowed.\")\n",
    "    elif operation == \"divide\":\n",
    "        result = user_input / user_data\n",
    "        print(f\"The result of the division is: {result}\")\n",
    "    else:\n",
    "        print(\"No custom exception raised.\")\n",
    "except CustomDivisionError as e:\n",
    "    print(e)"
   ]
  },
  {
   "cell_type": "markdown",
   "metadata": {},
   "source": [
    "\n",
    "\n",
    "### Bonus Exercise 3: Validate User Input with Exception Handling\n",
    "Write a program that repeatedly prompts the user for valid input until they provide it, using exception handling to manage invalid inputs.\n",
    "\n"
   ]
  },
  {
   "cell_type": "code",
   "execution_count": 36,
   "metadata": {},
   "outputs": [
    {
     "name": "stdout",
     "output_type": "stream",
     "text": [
      "Invalid input. Please enter a valid integer.\n",
      "Invalid input. Please enter a valid integer.\n",
      "Invalid input. Please enter a valid integer.\n",
      "You entered a valid integer: 98\n"
     ]
    }
   ],
   "source": [
    "while True:\n",
    "    try:\n",
    "        user_input = int(input(\"Please enter a valid integer: \"))\n",
    "        print(f\"You entered a valid integer: {user_input}\")\n",
    "        break  # Exit the loop if input is valid\n",
    "    except ValueError:\n",
    "        print(\"Invalid input. Please enter a valid integer.\")"
   ]
  },
  {
   "cell_type": "markdown",
   "metadata": {},
   "source": [
    "\n",
    "\n",
    "### Bonus Exercise 4: Log Errors to File\n",
    "Modify your error handling to log errors to a text file instead of printing them to the console.\n",
    "\n"
   ]
  },
  {
   "cell_type": "code",
   "execution_count": 38,
   "metadata": {},
   "outputs": [],
   "source": [
    "import logging\n",
    "\n",
    "# Configure logging to write errors to a file\n",
    "logging.basicConfig(filename='error_log.txt', level=logging.ERROR, format='%(asctime)s - %(levelname)s - %(message)s')\n",
    "user_input = 70\n",
    "user_data = 0\n",
    "operation = \"divide\"\n",
    "# Check for specific conditions and log errors to the file\n",
    "try:\n",
    "    if operation == \"divide\" and user_data == 0:\n",
    "        raise ZeroDivisionError(\"Division by zero is not allowed.\")\n",
    "    elif operation == \"divide\":\n",
    "        result = user_input / user_data\n",
    "        print(f\"The result of the division is: {result}\")\n",
    "    else:\n",
    "        print(\"No error occurred.\")\n",
    "except ZeroDivisionError as e:\n",
    "    logging.error(e)\n",
    "except Exception as e:\n",
    "    logging.error(f\"An unexpected error occurred: {e}\")"
   ]
  },
  {
   "cell_type": "markdown",
   "metadata": {},
   "source": [
    "\n",
    "\n",
    "### Bonus Exercise 5: Retry Logic on Exception\n",
    "Implement retry logic for operations that could fail, allowing users to try again after encountering an error.\n",
    "\n"
   ]
  },
  {
   "cell_type": "code",
   "execution_count": 39,
   "metadata": {},
   "outputs": [
    {
     "name": "stdout",
     "output_type": "stream",
     "text": [
      "Division by zero is not allowed.\n",
      "Division by zero is not allowed.\n",
      "Division by zero is not allowed.\n",
      "The result of the division is: 10.0\n"
     ]
    }
   ],
   "source": [
    "# Retry logic for operations\n",
    "while True:\n",
    "    try:\n",
    "        if operation == \"divide\":\n",
    "            if user_data == 0:\n",
    "                raise ZeroDivisionError(\"Division by zero is not allowed.\")\n",
    "            result = user_input / user_data\n",
    "            print(f\"The result of the division is: {result}\")\n",
    "        else:\n",
    "            print(\"No error occurred.\")\n",
    "        break  # Exit the loop if operation is successful\n",
    "    except ZeroDivisionError as e:\n",
    "        print(e)\n",
    "        try:\n",
    "            user_data = int(input(\"Please enter a non-zero denominator: \"))\n",
    "        except ValueError:\n",
    "            print(\"Invalid input. Please enter a valid integer.\")\n",
    "    except Exception as e:\n",
    "        print(f\"An unexpected error occurred: {e}\")\n",
    "        break"
   ]
  }
 ],
 "metadata": {
  "kernelspec": {
   "display_name": "Python 3",
   "language": "python",
   "name": "python3"
  },
  "language_info": {
   "codemirror_mode": {
    "name": "ipython",
    "version": 3
   },
   "file_extension": ".py",
   "mimetype": "text/x-python",
   "name": "python",
   "nbconvert_exporter": "python",
   "pygments_lexer": "ipython3",
   "version": "3.13.3"
  }
 },
 "nbformat": 4,
 "nbformat_minor": 2
}
